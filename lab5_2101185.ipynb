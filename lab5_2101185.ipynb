{
 "cells": [
  {
   "cell_type": "code",
   "execution_count": 1,
   "metadata": {},
   "outputs": [],
   "source": [
    "import boto3\n",
    "from mypy_boto3_rds import RDSClient\n",
    "from pprint import pprint\n",
    "import botocore.exceptions\n"
   ]
  },
  {
   "cell_type": "code",
   "execution_count": 2,
   "metadata": {},
   "outputs": [],
   "source": [
    "s3_bucket_name = 'lab2023iiitg'\n",
    "security_group_name = 'web-kush-satyadev'\n",
    "instance_key_name = 'kush_satyadev'\n",
    "ec2_role_name = 'portfolio-access'\n",
    "# security_group_id = 'sg-04af8f61f00d1b8ca'\n",
    "security_group_id = 'sg-036d12829b059381a'\n"
   ]
  },
  {
   "cell_type": "markdown",
   "metadata": {},
   "source": [
    "# Create RDS client for Boto3"
   ]
  },
  {
   "cell_type": "code",
   "execution_count": 3,
   "metadata": {},
   "outputs": [],
   "source": [
    "database_name = \"Portfolio\"\n",
    "database_username = \"admin\"\n",
    "database_password = \"password\"\n",
    "rds_client: RDSClient = boto3.client(\"rds\")"
   ]
  },
  {
   "cell_type": "markdown",
   "metadata": {},
   "source": [
    "# Create database instance"
   ]
  },
  {
   "cell_type": "code",
   "execution_count": 4,
   "metadata": {},
   "outputs": [
    {
     "name": "stdout",
     "output_type": "stream",
     "text": [
      "An error occurred (DBInstanceAlreadyExists) when calling the CreateDBInstance operation: DB instance already exists\n"
     ]
    }
   ],
   "source": [
    "try:\n",
    "    new_instance = rds_client.create_db_instance(\n",
    "        Engine=\"MySQL\",\n",
    "        DBInstanceClass=\"db.t3.micro\",\n",
    "        DBInstanceIdentifier=database_name,\n",
    "        DBName='Portfolio',\n",
    "        PubliclyAccessible=True,\n",
    "        MasterUsername=database_username,\n",
    "        MasterUserPassword=database_password,\n",
    "        AllocatedStorage=20,\n",
    "        VpcSecurityGroupIds=[\n",
    "            security_group_id\n",
    "        ],\n",
    "        DBSubnetGroupName='default-satya',\n",
    "        Port=3306,\n",
    "        AvailabilityZone='ap-south-1a', \n",
    "        \n",
    "    )[\"DBInstance\"]\n",
    "    pprint(new_instance)\n",
    "except botocore.exceptions.ClientError as error:\n",
    "    print(error)\n"
   ]
  },
  {
   "cell_type": "markdown",
   "metadata": {},
   "source": [
    "# Access the database instance"
   ]
  },
  {
   "cell_type": "code",
   "execution_count": 5,
   "metadata": {},
   "outputs": [
    {
     "data": {
      "text/plain": [
       "{'DBInstanceIdentifier': 'portfolio',\n",
       " 'DBInstanceClass': 'db.t3.micro',\n",
       " 'Engine': 'mysql',\n",
       " 'DBInstanceStatus': 'available',\n",
       " 'MasterUsername': 'admin',\n",
       " 'DBName': 'Portfolio',\n",
       " 'Endpoint': {'Address': 'portfolio.cy0nkung7pgs.ap-south-1.rds.amazonaws.com',\n",
       "  'Port': 3306,\n",
       "  'HostedZoneId': 'Z2VFMSZA74J7XZ'},\n",
       " 'AllocatedStorage': 20,\n",
       " 'InstanceCreateTime': datetime.datetime(2023, 9, 29, 3, 44, 17, 161000, tzinfo=tzutc()),\n",
       " 'PreferredBackupWindow': '23:58-00:28',\n",
       " 'BackupRetentionPeriod': 1,\n",
       " 'DBSecurityGroups': [],\n",
       " 'VpcSecurityGroups': [{'VpcSecurityGroupId': 'sg-036d12829b059381a',\n",
       "   'Status': 'active'}],\n",
       " 'DBParameterGroups': [{'DBParameterGroupName': 'default.mysql8.0',\n",
       "   'ParameterApplyStatus': 'in-sync'}],\n",
       " 'AvailabilityZone': 'ap-south-1a',\n",
       " 'DBSubnetGroup': {'DBSubnetGroupName': 'default-satya',\n",
       "  'DBSubnetGroupDescription': 'default subnet groups',\n",
       "  'VpcId': 'vpc-0e7754f6bb0a9ba50',\n",
       "  'SubnetGroupStatus': 'Complete',\n",
       "  'Subnets': [{'SubnetIdentifier': 'subnet-0fc56dd261b40b456',\n",
       "    'SubnetAvailabilityZone': {'Name': 'ap-south-1a'},\n",
       "    'SubnetOutpost': {},\n",
       "    'SubnetStatus': 'Active'},\n",
       "   {'SubnetIdentifier': 'subnet-0388817cd9236a9b0',\n",
       "    'SubnetAvailabilityZone': {'Name': 'ap-south-1b'},\n",
       "    'SubnetOutpost': {},\n",
       "    'SubnetStatus': 'Active'}]},\n",
       " 'PreferredMaintenanceWindow': 'sun:07:06-sun:07:36',\n",
       " 'PendingModifiedValues': {},\n",
       " 'LatestRestorableTime': datetime.datetime(2023, 9, 29, 3, 45, 29, 601000, tzinfo=tzutc()),\n",
       " 'MultiAZ': False,\n",
       " 'EngineVersion': '8.0.33',\n",
       " 'AutoMinorVersionUpgrade': True,\n",
       " 'ReadReplicaDBInstanceIdentifiers': [],\n",
       " 'LicenseModel': 'general-public-license',\n",
       " 'OptionGroupMemberships': [{'OptionGroupName': 'default:mysql-8-0',\n",
       "   'Status': 'in-sync'}],\n",
       " 'PubliclyAccessible': True,\n",
       " 'StorageType': 'gp2',\n",
       " 'DbInstancePort': 0,\n",
       " 'StorageEncrypted': False,\n",
       " 'DbiResourceId': 'db-55IBUWDYBQRQ4N3WY6ILZHZ3C4',\n",
       " 'CACertificateIdentifier': 'rds-ca-2019',\n",
       " 'DomainMemberships': [],\n",
       " 'CopyTagsToSnapshot': False,\n",
       " 'MonitoringInterval': 0,\n",
       " 'DBInstanceArn': 'arn:aws:rds:ap-south-1:411002764029:db:portfolio',\n",
       " 'IAMDatabaseAuthenticationEnabled': False,\n",
       " 'PerformanceInsightsEnabled': False,\n",
       " 'DeletionProtection': False,\n",
       " 'AssociatedRoles': [],\n",
       " 'TagList': [],\n",
       " 'CustomerOwnedIpEnabled': False,\n",
       " 'ActivityStreamStatus': 'stopped',\n",
       " 'BackupTarget': 'region',\n",
       " 'NetworkType': 'IPV4',\n",
       " 'StorageThroughput': 0,\n",
       " 'CertificateDetails': {'CAIdentifier': 'rds-ca-2019',\n",
       "  'ValidTill': datetime.datetime(2024, 8, 22, 17, 8, 50, tzinfo=tzutc())}}"
      ]
     },
     "execution_count": 5,
     "metadata": {},
     "output_type": "execute_result"
    }
   ],
   "source": [
    "creation_waiter = rds_client.get_waiter(\"db_instance_available\")\n",
    "creation_waiter.wait(DBInstanceIdentifier=database_name)\n",
    "\n",
    "instance = rds_client.describe_db_instances()[\"DBInstances\"][0]\n",
    "instance\n"
   ]
  },
  {
   "cell_type": "markdown",
   "metadata": {},
   "source": [
    "Print DB instance hostname:"
   ]
  },
  {
   "cell_type": "code",
   "execution_count": 6,
   "metadata": {},
   "outputs": [
    {
     "data": {
      "text/plain": [
       "'portfolio.cy0nkung7pgs.ap-south-1.rds.amazonaws.com'"
      ]
     },
     "execution_count": 6,
     "metadata": {},
     "output_type": "execute_result"
    }
   ],
   "source": [
    "host_name = instance[\"Endpoint\"][\"Address\"]\n",
    "host_name\n"
   ]
  },
  {
   "cell_type": "code",
   "execution_count": 7,
   "metadata": {},
   "outputs": [
    {
     "name": "stdout",
     "output_type": "stream",
     "text": [
      "[ec2.Instance(id='i-07ac9c2094a33bbe6')]\n"
     ]
    },
    {
     "ename": "KeyboardInterrupt",
     "evalue": "",
     "output_type": "error",
     "traceback": [
      "\u001b[0;31m---------------------------------------------------------------------------\u001b[0m",
      "\u001b[0;31mKeyboardInterrupt\u001b[0m                         Traceback (most recent call last)",
      "Cell \u001b[0;32mIn[7], line 20\u001b[0m\n\u001b[1;32m     18\u001b[0m \u001b[39mprint\u001b[39m(instances)\n\u001b[1;32m     19\u001b[0m instance \u001b[39m=\u001b[39m instances[\u001b[39m0\u001b[39m]\n\u001b[0;32m---> 20\u001b[0m instance\u001b[39m.\u001b[39;49mwait_until_running()\n\u001b[1;32m     21\u001b[0m instance\u001b[39m.\u001b[39mload()\n\u001b[1;32m     23\u001b[0m \u001b[39mprint\u001b[39m(instance\u001b[39m.\u001b[39mpublic_dns_name)\n",
      "File \u001b[0;32m~/Documents/cloud/lab5/my-env/lib/python3.11/site-packages/boto3/resources/factory.py:413\u001b[0m, in \u001b[0;36mResourceFactory._create_waiter.<locals>.do_waiter\u001b[0;34m(self, *args, **kwargs)\u001b[0m\n\u001b[1;32m    412\u001b[0m \u001b[39mdef\u001b[39;00m \u001b[39mdo_waiter\u001b[39m(\u001b[39mself\u001b[39m, \u001b[39m*\u001b[39margs, \u001b[39m*\u001b[39m\u001b[39m*\u001b[39mkwargs):\n\u001b[0;32m--> 413\u001b[0m     waiter(\u001b[39mself\u001b[39;49m, \u001b[39m*\u001b[39;49margs, \u001b[39m*\u001b[39;49m\u001b[39m*\u001b[39;49mkwargs)\n",
      "File \u001b[0;32m~/Documents/cloud/lab5/my-env/lib/python3.11/site-packages/boto3/resources/action.py:215\u001b[0m, in \u001b[0;36mWaiterAction.__call__\u001b[0;34m(self, parent, *args, **kwargs)\u001b[0m\n\u001b[1;32m    213\u001b[0m client \u001b[39m=\u001b[39m parent\u001b[39m.\u001b[39mmeta\u001b[39m.\u001b[39mclient\n\u001b[1;32m    214\u001b[0m waiter \u001b[39m=\u001b[39m client\u001b[39m.\u001b[39mget_waiter(client_waiter_name)\n\u001b[0;32m--> 215\u001b[0m response \u001b[39m=\u001b[39m waiter\u001b[39m.\u001b[39;49mwait(\u001b[39m*\u001b[39;49m\u001b[39m*\u001b[39;49mparams)\n\u001b[1;32m    217\u001b[0m logger\u001b[39m.\u001b[39mdebug(\u001b[39m'\u001b[39m\u001b[39mResponse: \u001b[39m\u001b[39m%r\u001b[39;00m\u001b[39m'\u001b[39m, response)\n",
      "File \u001b[0;32m~/Documents/cloud/lab5/my-env/lib/python3.11/site-packages/botocore/waiter.py:55\u001b[0m, in \u001b[0;36mcreate_waiter_with_client.<locals>.wait\u001b[0;34m(self, **kwargs)\u001b[0m\n\u001b[1;32m     54\u001b[0m \u001b[39mdef\u001b[39;00m \u001b[39mwait\u001b[39m(\u001b[39mself\u001b[39m, \u001b[39m*\u001b[39m\u001b[39m*\u001b[39mkwargs):\n\u001b[0;32m---> 55\u001b[0m     Waiter\u001b[39m.\u001b[39;49mwait(\u001b[39mself\u001b[39;49m, \u001b[39m*\u001b[39;49m\u001b[39m*\u001b[39;49mkwargs)\n",
      "File \u001b[0;32m~/Documents/cloud/lab5/my-env/lib/python3.11/site-packages/botocore/waiter.py:393\u001b[0m, in \u001b[0;36mWaiter.wait\u001b[0;34m(self, **kwargs)\u001b[0m\n\u001b[1;32m    384\u001b[0m         reason \u001b[39m=\u001b[39m (\n\u001b[1;32m    385\u001b[0m             \u001b[39m'\u001b[39m\u001b[39mMax attempts exceeded. Previously accepted state: \u001b[39m\u001b[39m%s\u001b[39;00m\u001b[39m'\u001b[39m\n\u001b[1;32m    386\u001b[0m             \u001b[39m%\u001b[39m (acceptor\u001b[39m.\u001b[39mexplanation)\n\u001b[1;32m    387\u001b[0m         )\n\u001b[1;32m    388\u001b[0m     \u001b[39mraise\u001b[39;00m WaiterError(\n\u001b[1;32m    389\u001b[0m         name\u001b[39m=\u001b[39m\u001b[39mself\u001b[39m\u001b[39m.\u001b[39mname,\n\u001b[1;32m    390\u001b[0m         reason\u001b[39m=\u001b[39mreason,\n\u001b[1;32m    391\u001b[0m         last_response\u001b[39m=\u001b[39mresponse,\n\u001b[1;32m    392\u001b[0m     )\n\u001b[0;32m--> 393\u001b[0m time\u001b[39m.\u001b[39msleep(sleep_amount)\n",
      "\u001b[0;31mKeyboardInterrupt\u001b[0m: "
     ]
    }
   ],
   "source": [
    "ec2 = boto3.resource(\"ec2\")\n",
    "\n",
    "instances = ec2.create_instances(\n",
    "    ImageId='ami-0ded8326293d3201b',\n",
    "    MinCount=1,\n",
    "    MaxCount=1,\n",
    "    InstanceType=\"t2.micro\",\n",
    "    KeyName=instance_key_name,\n",
    "    SecurityGroupIds=[security_group_id],\n",
    "    IamInstanceProfile={\n",
    "        'Name': ec2_role_name\n",
    "    },\n",
    "    UserData=open(\n",
    "        \"lab5_2101185.sh\"\n",
    "    ).read(),\n",
    ")\n",
    "\n",
    "print(instances)\n",
    "instance = instances[0]\n",
    "instance.wait_until_running()\n",
    "instance.load()\n",
    "\n",
    "print(instance.public_dns_name)\n"
   ]
  }
 ],
 "metadata": {
  "interpreter": {
   "hash": "767d51c1340bd893661ea55ea3124f6de3c7a262a8b4abca0554b478b1e2ff90"
  },
  "kernelspec": {
   "display_name": "Python 3 (ipykernel)",
   "language": "python",
   "name": "python3"
  },
  "language_info": {
   "codemirror_mode": {
    "name": "ipython",
    "version": 3
   },
   "file_extension": ".py",
   "mimetype": "text/x-python",
   "name": "python",
   "nbconvert_exporter": "python",
   "pygments_lexer": "ipython3",
   "version": "3.11.5"
  }
 },
 "nbformat": 4,
 "nbformat_minor": 4
}
